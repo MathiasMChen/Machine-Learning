{
 "cells": [
  {
   "cell_type": "code",
   "execution_count": 1,
   "metadata": {},
   "outputs": [],
   "source": [
    "import numpy as np\n",
    "from random import random as r\n",
    "import random\n",
    "from pprint import pprint\n",
    "from swiss_group_compare import run"
   ]
  },
  {
   "cell_type": "code",
   "execution_count": 23,
   "metadata": {},
   "outputs": [
    {
     "name": "stdout",
     "output_type": "stream",
     "text": [
      "17542 16968\n"
     ]
    }
   ],
   "source": [
    "swiss_diff = 0\n",
    "group_diff = 0\n",
    "for _ in range(500):\n",
    "    swiss, group, team = run(32,200)\n",
    "    dct = {}\n",
    "    for i in range(len(swiss)):\n",
    "        dct[i+1] = [swiss.index(i+1), group.index(i+1), team.index(i+1)]\n",
    "    swiss_diff += sum([abs(dct[i][2]-dct[i][0]) for i in dct])\n",
    "    group_diff += sum([abs(dct[i][2]-dct[i][1]) for i in dct])\n",
    "print(swiss_diff, group_diff)"
   ]
  }
 ],
 "metadata": {
  "kernelspec": {
   "display_name": "Python 3",
   "language": "python",
   "name": "python3"
  },
  "language_info": {
   "codemirror_mode": {
    "name": "ipython",
    "version": 3
   },
   "file_extension": ".py",
   "mimetype": "text/x-python",
   "name": "python",
   "nbconvert_exporter": "python",
   "pygments_lexer": "ipython3",
   "version": "3.12.3"
  }
 },
 "nbformat": 4,
 "nbformat_minor": 2
}
