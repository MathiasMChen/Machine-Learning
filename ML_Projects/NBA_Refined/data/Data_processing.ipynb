{
 "cells": [
  {
   "cell_type": "code",
   "execution_count": 1,
   "metadata": {},
   "outputs": [],
   "source": [
    "# libraries\n",
    "import pandas as pd\n",
    "import time\n",
    "from bs4 import BeautifulSoup as bs\n",
    "import requests\n",
    "import warnings; warnings.filterwarnings(\"ignore\")\n",
    "from pprint import pprint\n",
    "\n",
    "# unhide all rows and columns\n",
    "pd.set_option('display.max_rows', None)\n",
    "pd.set_option('display.max_columns', None)\n",
    "pd.set_option('display.width', None)"
   ]
  },
  {
   "cell_type": "code",
   "execution_count": 2,
   "metadata": {},
   "outputs": [],
   "source": [
    "years = list(range(2002,2022))\n",
    "url_start = \"https://stats.nba.com/stats/leagueLeaders?LeagueID=00&PerMode=PerGame&Scope=S&Season=20{}&SeasonType=Regular%20Season&StatCategory=PTS\"\n",
    "output = \"20{}.csv\"\n",
    "df_as = pd.read_csv('All_Stars.csv')\n",
    "df_as['name'] = df_as['first'] + ' ' + df_as['last']\n",
    "df_as = df_as[['name','year']]"
   ]
  },
  {
   "cell_type": "code",
   "execution_count": 5,
   "metadata": {},
   "outputs": [],
   "source": [
    "dfs = []\n",
    "Big_df = pd.DataFrame()\n",
    "\n",
    "for year in years:\n",
    "    string = str(year)[-2:]+\"-\"+str(year+1)[-2:]\n",
    "    url = url_start.format(string)\n",
    "    data = requests.get(url).json()['resultSet']\n",
    "    df = pd.DataFrame(data['rowSet'], columns=data['headers'])\n",
    "    df['YEAR'] = year\n",
    "    df = df.merge(df_as.assign(ALL_STAR=1), left_on=['PLAYER','YEAR'], right_on=['name','year'], how='left')\n",
    "    df = df.fillna(0)\n",
    "    Big_df = pd.concat([Big_df,df])"
   ]
  },
  {
   "cell_type": "code",
   "execution_count": 13,
   "metadata": {},
   "outputs": [],
   "source": [
    "Big_df = Big_df.drop(columns=['name','year'])\n",
    "Big_df.to_csv('All_data.csv', index=False)"
   ]
  }
 ],
 "metadata": {
  "kernelspec": {
   "display_name": "Python 3",
   "language": "python",
   "name": "python3"
  },
  "language_info": {
   "codemirror_mode": {
    "name": "ipython",
    "version": 3
   },
   "file_extension": ".py",
   "mimetype": "text/x-python",
   "name": "python",
   "nbconvert_exporter": "python",
   "pygments_lexer": "ipython3",
   "version": "3.12.3"
  }
 },
 "nbformat": 4,
 "nbformat_minor": 2
}
