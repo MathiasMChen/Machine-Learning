{
 "cells": [
  {
   "cell_type": "code",
   "execution_count": 14,
   "metadata": {},
   "outputs": [],
   "source": [
    "import numpy as np\n",
    "from random import randint"
   ]
  },
  {
   "cell_type": "code",
   "execution_count": 15,
   "metadata": {},
   "outputs": [],
   "source": [
    "def throw():\n",
    "    return randint(0,5)+1"
   ]
  },
  {
   "cell_type": "code",
   "execution_count": 16,
   "metadata": {},
   "outputs": [],
   "source": [
    "def run(n):\n",
    "    prize = np.array([0] + [1]*(n-1))\n",
    "    #print(prize)\n",
    "    #output = []\n",
    "    pos = 0\n",
    "    turn = 0\n",
    "    while any(prize):\n",
    "        go = throw()\n",
    "        pos += go\n",
    "        turn += 1\n",
    "        pos %= n\n",
    "        if prize[pos] == 1:            \n",
    "            prize[pos] = 0\n",
    "            #output.append(turn)\n",
    "        #print(f'Throws {go} on turn {turn}. Current prize pot: {prize}')\n",
    "    return turn#, np.array(output)"
   ]
  },
  {
   "cell_type": "code",
   "execution_count": 17,
   "metadata": {},
   "outputs": [
    {
     "name": "stdout",
     "output_type": "stream",
     "text": [
      "Avg 77.0638 on 10000th run\n",
      "Avg 77.169 on 20000th run\n",
      "Avg 77.15196666666667 on 30000th run\n",
      "Avg 77.2546 on 40000th run\n",
      "Avg 77.26826 on 50000th run\n",
      "Avg 77.24515 on 60000th run\n",
      "Avg 77.25258571428571 on 70000th run\n",
      "Avg 77.3142375 on 80000th run\n",
      "Avg 77.30188888888888 on 90000th run\n",
      "Avg 77.28548 on 100000th run\n",
      "Avg 77.29116363636363 on 110000th run\n",
      "Avg 77.28579166666667 on 120000th run\n",
      "Avg 77.27519230769231 on 130000th run\n",
      "Avg 77.23866428571428 on 140000th run\n",
      "Avg 77.22473333333333 on 150000th run\n",
      "Avg 77.2457625 on 160000th run\n",
      "Avg 77.22836470588236 on 170000th run\n",
      "Avg 77.22124444444445 on 180000th run\n",
      "Avg 77.21641578947369 on 190000th run\n",
      "Avg 77.210485 on 200000th run on board length 24 squares\n"
     ]
    }
   ],
   "source": [
    "tot = 0\n",
    "n = 200000\n",
    "m = 24\n",
    "tot_arr = np.array([0] * (m-1))\n",
    "for i in range(n):\n",
    "    turn = run(m)\n",
    "    tot += turn\n",
    "    #tot_arr += output\n",
    "    if i+1 == n:\n",
    "        print(f'Avg {tot/(i+1)} on {i+1}th run on board length {m} squares')#\\nAvg {tot_arr/(i+1)} on {i+1}th run')\n",
    "    elif (i+1) % 10000 == 0:\n",
    "        print(f'Avg {tot/(i+1)} on {i+1}th run')#\\nAvg {tot_arr/(i+1)} on {i+1}th run')\n",
    "\n",
    "#Output: the average turns it takes to land on every square on a monopoly board with m squares (including the starting square) with n runs."
   ]
  }
 ],
 "metadata": {
  "kernelspec": {
   "display_name": "Python 3",
   "language": "python",
   "name": "python3"
  },
  "language_info": {
   "codemirror_mode": {
    "name": "ipython",
    "version": 3
   },
   "file_extension": ".py",
   "mimetype": "text/x-python",
   "name": "python",
   "nbconvert_exporter": "python",
   "pygments_lexer": "ipython3",
   "version": "3.12.3"
  }
 },
 "nbformat": 4,
 "nbformat_minor": 2
}
