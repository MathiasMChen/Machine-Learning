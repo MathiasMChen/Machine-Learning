{
 "cells": [
  {
   "cell_type": "code",
   "execution_count": 52,
   "metadata": {},
   "outputs": [],
   "source": [
    "from pprint import pprint\n",
    "from tensorflow.keras.losses import BinaryCrossentropy, MeanSquaredError, SparseCategoricalCrossentropy # type: ignore\n",
    "from tensorflow.keras.optimizers import Adam # type: ignore\n",
    "from tensorflow.keras.layers import Dense\n",
    "dct = {}"
   ]
  },
  {
   "cell_type": "code",
   "execution_count": 53,
   "metadata": {},
   "outputs": [],
   "source": [
    "#\n",
    "parent = dct\n",
    "parent['tensorflow'] = {}"
   ]
  },
  {
   "cell_type": "code",
   "execution_count": 54,
   "metadata": {},
   "outputs": [],
   "source": [
    "#tensorflow\n",
    "parent = dct['tensorflow']\n",
    "parent['keras'] = {}\n",
    "parent['nn'] = {}"
   ]
  },
  {
   "cell_type": "code",
   "execution_count": 55,
   "metadata": {},
   "outputs": [],
   "source": [
    "#tensorflow.nn\n",
    "parent = dct['tensorflow']['nn']\n",
    "parent['softmax'] = {}\n",
    "parent['sigmoid'] = {}"
   ]
  },
  {
   "cell_type": "code",
   "execution_count": 56,
   "metadata": {},
   "outputs": [],
   "source": [
    "#tensorflow.keras\n",
    "parent = dct['tensorflow']['keras']\n",
    "parent['layer'] = {}\n",
    "parent['Sequential'] = {}\n",
    "parent['Input'] = {}"
   ]
  },
  {
   "cell_type": "code",
   "execution_count": 57,
   "metadata": {},
   "outputs": [],
   "source": [
    "#tensorflow.keras.input\n",
    "parent = dct['tensorflow']['keras']['Input']\n",
    "parent['shape'] = tuple"
   ]
  },
  {
   "cell_type": "code",
   "execution_count": 58,
   "metadata": {},
   "outputs": [],
   "source": [
    "#tensorflow.keras.layer\n",
    "parent = dct['tensorflow']['keras']['layer']\n",
    "parent['Dense'] = {}"
   ]
  },
  {
   "cell_type": "code",
   "execution_count": 59,
   "metadata": {},
   "outputs": [
    {
     "ename": "NameError",
     "evalue": "name 'L2' is not defined",
     "output_type": "error",
     "traceback": [
      "\u001b[1;31m---------------------------------------------------------------------------\u001b[0m",
      "\u001b[1;31mNameError\u001b[0m                                 Traceback (most recent call last)",
      "Cell \u001b[1;32mIn[59], line 5\u001b[0m\n\u001b[0;32m      3\u001b[0m parent[\u001b[38;5;124m'\u001b[39m\u001b[38;5;124munits\u001b[39m\u001b[38;5;124m'\u001b[39m] \u001b[38;5;241m=\u001b[39m \u001b[38;5;28mint\u001b[39m\n\u001b[0;32m      4\u001b[0m parent[\u001b[38;5;124m'\u001b[39m\u001b[38;5;124mactivation\u001b[39m\u001b[38;5;124m'\u001b[39m] \u001b[38;5;241m=\u001b[39m [\u001b[38;5;124m'\u001b[39m\u001b[38;5;124msigmoid\u001b[39m\u001b[38;5;124m'\u001b[39m,\u001b[38;5;124m'\u001b[39m\u001b[38;5;124mlinear\u001b[39m\u001b[38;5;124m'\u001b[39m,\u001b[38;5;124m'\u001b[39m\u001b[38;5;124mrelu\u001b[39m\u001b[38;5;124m'\u001b[39m, \u001b[38;5;124m'\u001b[39m\u001b[38;5;124mtanh\u001b[39m\u001b[38;5;124m'\u001b[39m, \u001b[38;5;124m'\u001b[39m\u001b[38;5;124melu\u001b[39m\u001b[38;5;124m'\u001b[39m,\u001b[38;5;124m'\u001b[39m\u001b[38;5;124mexponential\u001b[39m\u001b[38;5;124m'\u001b[39m,\u001b[38;5;124m'\u001b[39m\u001b[38;5;124mgelu\u001b[39m\u001b[38;5;124m'\u001b[39m,\u001b[38;5;124m'\u001b[39m\u001b[38;5;124mleaky_relu\u001b[39m\u001b[38;5;124m'\u001b[39m,\u001b[38;5;124m'\u001b[39m\u001b[38;5;124mswish\u001b[39m\u001b[38;5;124m'\u001b[39m,\u001b[38;5;124m'\u001b[39m\u001b[38;5;124msoftmax\u001b[39m\u001b[38;5;124m'\u001b[39m]\n\u001b[1;32m----> 5\u001b[0m parent[\u001b[38;5;124m'\u001b[39m\u001b[38;5;124mkernal_regularizer\u001b[39m\u001b[38;5;124m'\u001b[39m] \u001b[38;5;241m=\u001b[39m Dense(units\u001b[38;5;241m=\u001b[39m\u001b[38;5;241m1\u001b[39m, activation\u001b[38;5;241m=\u001b[39m\u001b[38;5;124m'\u001b[39m\u001b[38;5;124mrelu\u001b[39m\u001b[38;5;124m'\u001b[39m, kernel_regularizer\u001b[38;5;241m=\u001b[39m\u001b[43mL2\u001b[49m(\u001b[38;5;241m0.01\u001b[39m))\n",
      "\u001b[1;31mNameError\u001b[0m: name 'L2' is not defined"
     ]
    }
   ],
   "source": [
    "#tensorflow.keras.layer.Dense\n",
    "parent = dct['tensorflow']['keras']['layer']['Dense']\n",
    "parent['units'] = int\n",
    "parent['activation'] = ['sigmoid','linear','relu', 'tanh', 'elu','exponential','gelu','leaky_relu','swish','softmax']\n",
    "parent['kernal_regularizer'] = Dense(units=1, activation='relu', kernel_regularizer=L2(0.01))"
   ]
  },
  {
   "cell_type": "code",
   "execution_count": null,
   "metadata": {},
   "outputs": [],
   "source": [
    "#tensorflow.keras.Sequential\n",
    "parent = dct['tensorflow']['keras']['Sequential']\n",
    "parent['compile'] = {}\n",
    "parent['fit'] = {}"
   ]
  },
  {
   "cell_type": "code",
   "execution_count": null,
   "metadata": {},
   "outputs": [],
   "source": [
    "#tensorflow.keras.Sequential.compile\n",
    "parent = dct['tensorflow']['keras']['Sequential']['compile']\n",
    "parent['loss'] = [BinaryCrossentropy(from_logits=True), MeanSquaredError(), SparseCategoricalCrossentropy(from_logits=True)]\n",
    "parent['optimizer'] = [Adam(learning_rate = 0.01)]"
   ]
  },
  {
   "cell_type": "code",
   "execution_count": null,
   "metadata": {},
   "outputs": [],
   "source": [
    "#tensorflow.keras.Sequential.fit\n",
    "parent = dct['tensorflow']['keras']['Sequential']['fit']\n",
    "parent['epochs'] = int"
   ]
  },
  {
   "cell_type": "code",
   "execution_count": null,
   "metadata": {},
   "outputs": [
    {
     "name": "stdout",
     "output_type": "stream",
     "text": [
      "{'tensorflow': {'keras': {'Input': {'shape': <class 'tuple'>},\n",
      "                          'Sequential': {'compile': {'loss': [<keras.src.losses.losses.BinaryCrossentropy object at 0x00000208B89C3290>,\n",
      "                                                              <class 'keras.src.losses.losses.MeanSquaredError'>,\n",
      "                                                              <keras.src.losses.losses.SparseCategoricalCrossentropy object at 0x00000208B89C1AC0>],\n",
      "                                                     'optimizer': [<keras.src.optimizers.adam.Adam object at 0x00000208B88F46E0>]},\n",
      "                                         'fit': {'epochs': <class 'int'>}},\n",
      "                          'layer': {'Dense': {'activation': ['sigmoid',\n",
      "                                                             'linear',\n",
      "                                                             'relu',\n",
      "                                                             'tanh',\n",
      "                                                             'elu',\n",
      "                                                             'exponential',\n",
      "                                                             'gelu',\n",
      "                                                             'leaky_relu',\n",
      "                                                             'swish',\n",
      "                                                             'softmax'],\n",
      "                                              'units': <class 'int'>}}},\n",
      "                'nn': {'sigmoid': {}, 'softmax': {}}}}\n"
     ]
    }
   ],
   "source": [
    "pprint(dct)"
   ]
  }
 ],
 "metadata": {
  "kernelspec": {
   "display_name": "Python 3",
   "language": "python",
   "name": "python3"
  },
  "language_info": {
   "codemirror_mode": {
    "name": "ipython",
    "version": 3
   },
   "file_extension": ".py",
   "mimetype": "text/x-python",
   "name": "python",
   "nbconvert_exporter": "python",
   "pygments_lexer": "ipython3",
   "version": "3.12.3"
  }
 },
 "nbformat": 4,
 "nbformat_minor": 2
}
